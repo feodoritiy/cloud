{
 "metadata": {
  "language_info": {
   "codemirror_mode": {
    "name": "ipython",
    "version": 3
   },
   "file_extension": ".py",
   "mimetype": "text/x-python",
   "name": "python",
   "nbconvert_exporter": "python",
   "pygments_lexer": "ipython3",
   "version": "3.8.5-final"
  },
  "orig_nbformat": 2,
  "kernelspec": {
   "name": "python38564bit56f5d78925fe44c084870aaa31993dbc",
   "display_name": "Python 3.8.5 64-bit"
  }
 },
 "nbformat": 4,
 "nbformat_minor": 2,
 "cells": [
  {
   "source": [
    "# Лабораторная работа № 3\n",
    "Никонов Фёдор Андреевич"
   ],
   "cell_type": "markdown",
   "metadata": {}
  },
  {
   "source": [
    "## Задание 1г\n",
    "\n",
    "Дано натуральное _n_. Вычислить значение суммы.\n",
    "\n",
    "<img src=\"3_1g.png\" />\n",
    "\n"
   ],
   "cell_type": "markdown",
   "metadata": {}
  },
  {
   "cell_type": "code",
   "execution_count": 1,
   "metadata": {},
   "outputs": [
    {
     "output_type": "stream",
     "name": "stdout",
     "text": [
      "0.4\n"
     ]
    }
   ],
   "source": [
    "n = int(input('n: '))\n",
    "res = 0\n",
    "\n",
    "for i in range(1, n+1):\n",
    "    i1 = i + 1\n",
    "    res += ((-1) ** i1) / (i * i1)\n",
    "    \n",
    "print(res)"
   ]
  },
  {
   "source": [
    "## Задание 2.4\n",
    "\n",
    "Дано натуральное _n_ и действительное _x_. Вычислить значение суммы.\n",
    "\n",
    "<img src=\"3_2_4.png\" />\n",
    "\n"
   ],
   "cell_type": "markdown",
   "metadata": {}
  },
  {
   "cell_type": "code",
   "execution_count": 3,
   "metadata": {},
   "outputs": [
    {
     "output_type": "stream",
     "name": "stdout",
     "text": [
      "0.2474039592545289\n"
     ]
    }
   ],
   "source": [
    "factx_store = { 'n': 1, 'v': 1 }\n",
    "def factx(n):\n",
    "    for i in range(factx_store['n'], n+1): # start calculations from last point\n",
    "        factx_store['v'] *= i # just continue updating value\n",
    "    factx_store['n'] = n+1 # save curr position\n",
    "    return factx_store['v']\n",
    "\n",
    "powx_store = { 'n': 0, 'v': 1 }\n",
    "def powx(x, n):\n",
    "    for i in range(powx_store['n'], n): # continue from saved positon\n",
    "        powx_store['v'] *= x # calculation is optimized\n",
    "    powx_store['n'] = n # save curr position\n",
    "    return powx_store['v']\n",
    "\n",
    "m = int(input('m: '))\n",
    "x = float(input('x: '))\n",
    "res = 0\n",
    "for i in range(1, m+1):\n",
    "    z = 2*i - 1\n",
    "    res += (-1 if i % 2 == 0 else 1) * powx(x, z) / factx(z)\n",
    "    \n",
    "print(res)"
   ]
  },
  {
   "source": [
    "## Задание 3.6\n",
    "\n",
    "Вычислить значения функции _f(x)_ на отрезке _\\[a;b\\]_ с шагом _h_\n",
    "\n",
    "<img src=\"3_3_6.png\" />"
   ],
   "cell_type": "markdown",
   "metadata": {}
  },
  {
   "cell_type": "code",
   "execution_count": 4,
   "metadata": {},
   "outputs": [
    {
     "output_type": "stream",
     "name": "stdout",
     "text": [
      "sigma(3.0)= 0.9525741268224334\nsigma(3.2)= 0.9608342772032357\nsigma(3.4)= 0.9677045353015494\nsigma(3.6)= 0.973403006423134\nsigma(3.8)= 0.9781187290638694\nsigma(4.0)= 0.9820137900379085\n"
     ]
    }
   ],
   "source": [
    "from math import exp\n",
    "\n",
    "def f(x):\n",
    "    # sigmoid\n",
    "    return 1 / (1 + exp(-x))\n",
    "\n",
    "for x in [round(m*0.2, 1) for m in range(int(3*10/2), int(4*10/2 + 2/2))]:\n",
    "    print(f'sigma({x})= {f(x)}')"
   ]
  },
  {
   "cell_type": "code",
   "execution_count": null,
   "metadata": {},
   "outputs": [],
   "source": []
  }
 ]
}