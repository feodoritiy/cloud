{
 "metadata": {
  "language_info": {
   "codemirror_mode": {
    "name": "ipython",
    "version": 3
   },
   "file_extension": ".py",
   "mimetype": "text/x-python",
   "name": "python",
   "nbconvert_exporter": "python",
   "pygments_lexer": "ipython3",
   "version": "3.8.5-final"
  },
  "orig_nbformat": 2,
  "kernelspec": {
   "name": "python38564bit56f5d78925fe44c084870aaa31993dbc",
   "display_name": "Python 3.8.5 64-bit",
   "language": "python"
  }
 },
 "nbformat": 4,
 "nbformat_minor": 2,
 "cells": [
  {
   "source": [
    "# Лабораторная работа № 6\n",
    "\n",
    "Никонов Фёдор Андреевич ПИ 201(2)"
   ],
   "cell_type": "markdown",
   "metadata": {}
  },
  {
   "source": [
    "## Задание 24\n",
    "\n",
    "Характеристикой строки целочисленной матрицы A( n x m ) назовем\n",
    "сумму её положительных четных элементов. Переставляя строки\n",
    "заданной матрицы, расположить их в соответствии с ростом их\n",
    "характеристик.\n"
   ],
   "cell_type": "markdown",
   "metadata": {}
  },
  {
   "cell_type": "code",
   "execution_count": 16,
   "metadata": {},
   "outputs": [
    {
     "output_type": "stream",
     "name": "stdout",
     "text": [
      "[0, -1, 2]\n[-3, 4, -5]\n[6, -7, 8]\n"
     ]
    }
   ],
   "source": [
    "A = [\n",
    "    [6, -7, 8], # 14\n",
    "    [0, -1, 2], # 2\n",
    "    [-3, 4, -5], # 4\n",
    "]\n",
    "\n",
    "def calc_feature(row):\n",
    "    res = 0\n",
    "    for el in row:\n",
    "        if (el > 0) and (el % 2 == 0):\n",
    "            res += el\n",
    "    return res\n",
    "\n",
    "features = [calc_feature(row) for row in A]\n",
    "featured_A = zip(features, A)\n",
    "sorted_A = list(map(\n",
    "    lambda el: el[1], \n",
    "    sorted(\n",
    "        featured_A, \n",
    "        key=lambda el: el[0]\n",
    "    )\n",
    "))\n",
    "\n",
    "for row in sorted_A:\n",
    "    print(row)"
   ]
  },
  {
   "source": [
    "## Задание 12\n",
    "\n",
    "В матрице A( n x m ) найти максимальный элемент и путем\n",
    "перестановки строк и столбцов поместить его на место элемента a<sub>00</sub>."
   ],
   "cell_type": "markdown",
   "metadata": {}
  },
  {
   "cell_type": "code",
   "execution_count": 10,
   "metadata": {},
   "outputs": [
    {
     "output_type": "stream",
     "name": "stdout",
     "text": [
      "[33, 32, 31]\n[23, 22, 21]\n[13, 12, 11]\n"
     ]
    }
   ],
   "source": [
    "A = [\n",
    "    [11,12,13],\n",
    "    [21,22,23],\n",
    "    [31,32,33]\n",
    "]\n",
    "\n",
    "class Max:\n",
    "    i = 0\n",
    "    j = 0\n",
    "    v = None\n",
    "\n",
    "    def __init__(self, start_v):\n",
    "        self.v = start_v\n",
    "\n",
    "    def update(self, i, j, v):\n",
    "        self.i = i\n",
    "        self.j = j\n",
    "        self.v = v\n",
    "\n",
    "max = Max(A[0][0])\n",
    "\n",
    "i = 0\n",
    "for row in A:\n",
    "    j = 0\n",
    "    for el in row:\n",
    "        if (el > max.v):\n",
    "            max.update(i, j, el)\n",
    "        j += 1\n",
    "    i += 1\n",
    "\n",
    "def swap_col(A, i1, i2):\n",
    "    for row in A:\n",
    "        row[i1], row[i2] = row[i2], row[i1]\n",
    "\n",
    "swap_col(A, max.j, 0) # swap col\n",
    "A[0], A[max.i] = A[max.i], A[0] # swap row\n",
    "\n",
    "for row in A:\n",
    "    print(row, end='\\n')"
   ]
  },
  {
   "cell_type": "code",
   "execution_count": null,
   "metadata": {},
   "outputs": [],
   "source": []
  }
 ]
}