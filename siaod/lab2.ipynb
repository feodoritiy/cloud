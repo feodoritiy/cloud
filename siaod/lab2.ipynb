{
 "cells": [
  {
   "cell_type": "markdown",
   "metadata": {},
   "source": [
    "# Лабораторная работа №2\n",
    "Никонов Фёдор Андреевич"
   ]
  },
  {
   "cell_type": "markdown",
   "metadata": {},
   "source": [
    "## Задание 6\n",
    "\n",
    "Даны два числа. Вывести первое число, если оно больше второго, и оба числа, если это не так."
   ]
  },
  {
   "cell_type": "code",
   "execution_count": 1,
   "metadata": {},
   "outputs": [
    {
     "output_type": "stream",
     "name": "stdout",
     "text": [
      "5.0 6.0\n"
     ]
    }
   ],
   "source": [
    "a,b = map(float, [input('a: '), input('b: ')])\n",
    "print(*([a] if a > b else [a, b]))"
   ]
  },
  {
   "cell_type": "markdown",
   "metadata": {},
   "source": [
    "## Задание 10б\n",
    "\n",
    "Дано _х_. Вычислить _у_, если:\n",
    "\n",
    "<img src=\"2_10b.png\" />"
   ]
  },
  {
   "cell_type": "code",
   "execution_count": 1,
   "metadata": {},
   "outputs": [
    {
     "name": "stdout",
     "output_type": "stream",
     "text": [
      "x: -1\n",
      "0\n"
     ]
    }
   ],
   "source": [
    "x = float(input('x: '))\n",
    "\n",
    "if x <= 0:\n",
    "    print(0)\n",
    "elif x <= 1:\n",
    "    print(x)\n",
    "else:\n",
    "    print(x**4)"
   ]
  },
  {
   "cell_type": "markdown",
   "metadata": {},
   "source": [
    "## Задание 11е\n",
    "\n",
    "Определить попадает ли точка внутрь заданной области.\n",
    "\n",
    "<img src=\"2_11e.png\" />"
   ]
  },
  {
   "cell_type": "code",
   "execution_count": null,
   "metadata": {},
   "outputs": [],
   "source": [
    "def kxb(x):\n",
    "    return 1*(0.5+x) + -0.5\n",
    "\n",
    "bottom = -0.5\n",
    "right = 1\n",
    "\n",
    "x, y = map(float, [input('x: '), input('y: ')])\n",
    "\n",
    "# x > right OR y < bottom OR y(x) > kxb(x) => not in sector => False\n",
    "print(not ((x > right) or (y < bottom) or (kxb(x) < y)))"
   ]
  }
 ],
 "metadata": {
  "kernelspec": {
   "display_name": "Python 3.8.2 64-bit",
   "language": "python",
   "name": "python38264bit6f4f4ef459d14b8b83bdbaafe1c07551"
  },
  "language_info": {
   "codemirror_mode": {
    "name": "ipython",
    "version": 3
   },
   "file_extension": ".py",
   "mimetype": "text/x-python",
   "name": "python",
   "nbconvert_exporter": "python",
   "pygments_lexer": "ipython3",
   "version": "3.8.2-final"
  }
 },
 "nbformat": 4,
 "nbformat_minor": 2
}