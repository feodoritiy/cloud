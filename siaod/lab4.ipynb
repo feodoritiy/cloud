{
 "metadata": {
  "language_info": {
   "codemirror_mode": {
    "name": "ipython",
    "version": 3
   },
   "file_extension": ".py",
   "mimetype": "text/x-python",
   "name": "python",
   "nbconvert_exporter": "python",
   "pygments_lexer": "ipython3",
   "version": "3.8.5-final"
  },
  "orig_nbformat": 2,
  "kernelspec": {
   "name": "python38564bit56f5d78925fe44c084870aaa31993dbc",
   "display_name": "Python 3.8.5 64-bit"
  }
 },
 "nbformat": 4,
 "nbformat_minor": 2,
 "cells": [
  {
   "source": [
    "# Лабораторная работа №4\n",
    "Никонов Федор Андреевич ПИ 201(2)"
   ],
   "cell_type": "markdown",
   "metadata": {}
  },
  {
   "source": [
    "## Задание 1и\n",
    "\n",
    "Даны действительные числа _x, e (x != 0, e > 0)_. Вычислить приближенное значение бесконечной суммы. Вычисления выполнить с заданной точностью _е_ (пока текущий член ряда не превосходит по абсолютной величине заданного _е_)\n",
    "\n",
    "<img src=\"4_1i.png\" />"
   ],
   "cell_type": "markdown",
   "metadata": {}
  },
  {
   "cell_type": "code",
   "execution_count": 5,
   "metadata": {},
   "outputs": [
    {
     "output_type": "stream",
     "name": "stdout",
     "text": [
      "0.793481078357269 k=11\n"
     ]
    }
   ],
   "source": [
    "x, e = map(lambda el: float(input(f'{el}: ')), ['x', 'e'])\n",
    "res = 0; curr = 0; k = 1\n",
    "\n",
    "x_3 = x**-3\n",
    "\n",
    "def calc():\n",
    "    global curr, x_3, k, res\n",
    "    curr = x_3 * k**-2\n",
    "    res += curr\n",
    "    k += 1\n",
    "\n",
    "calc()\n",
    "while (abs(curr / res) * 100 >= e):\n",
    "    calc()\n",
    "    \n",
    "print(res, f'k={k}')"
   ]
  },
  {
   "source": [
    "## Задание 2.2\n",
    "\n",
    "Даны действительные числа _х, е (е > 0)_. Вычислить с заданной точностью _е_ приближенное значение бесконечной суммы и сравнить его с точным.\n",
    "\n",
    "<img src=\"4_2_2.png\" />"
   ],
   "cell_type": "markdown",
   "metadata": {}
  },
  {
   "cell_type": "code",
   "execution_count": 3,
   "metadata": {},
   "outputs": [
    {
     "output_type": "stream",
     "name": "stdout",
     "text": [
      "fractial: 0.315324898750063 m=10\naccurate: 0.3153223623952687\ndiffer: 2.5363547943024756e-06\n"
     ]
    }
   ],
   "source": [
    "from math import cos\n",
    "   \n",
    "# factx\n",
    "factx_store = { 'n': 1, 'v': 1 }\n",
    "def factx(n):\n",
    "    for i in range(factx_store['n'], n+1): # start calculations from last point\n",
    "        factx_store['v'] *= i # just continue updating value\n",
    "    factx_store['n'] = n+1 # save curr position\n",
    "    return factx_store['v']\n",
    "\n",
    "# powx\n",
    "powx_store = { 'n': 0, 'v': 1 }\n",
    "def powx(x, n):\n",
    "    for i in range(powx_store['n'], n): # continue from saved positon\n",
    "        powx_store['v'] *= x # calculation is optimized\n",
    "    powx_store['n'] = n # save curr position\n",
    "    return powx_store['v']\n",
    "\n",
    "# program\n",
    "x, e = map(lambda el: float(input(f'{el}: ')), ['x', 'e'])\n",
    "res = 0; curr = 0; m = 0\n",
    "\n",
    "def calc():\n",
    "    global curr, m, res\n",
    "    curr = (-1)**(m/2) * powx(x, m) / factx(m)\n",
    "    res += curr\n",
    "    m += 2\n",
    "\n",
    "calc()\n",
    "while (abs(curr / res) * 100 >= e):\n",
    "    calc()\n",
    "    \n",
    "print('fractial:', res, f'm={m}')\n",
    "print('accurate:', cos(x))\n",
    "print('differ:', abs(cos(x)-res))"
   ]
  },
  {
   "cell_type": "code",
   "execution_count": null,
   "metadata": {},
   "outputs": [],
   "source": []
  }
 ]
}