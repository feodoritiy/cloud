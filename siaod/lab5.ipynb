{
 "metadata": {
  "language_info": {
   "codemirror_mode": {
    "name": "ipython",
    "version": 3
   },
   "file_extension": ".py",
   "mimetype": "text/x-python",
   "name": "python",
   "nbconvert_exporter": "python",
   "pygments_lexer": "ipython3",
   "version": "3.8.5-final"
  },
  "orig_nbformat": 2,
  "kernelspec": {
   "name": "python38564bit56f5d78925fe44c084870aaa31993dbc",
   "display_name": "Python 3.8.5 64-bit"
  }
 },
 "nbformat": 4,
 "nbformat_minor": 2,
 "cells": [
  {
   "source": [
    "# Лабораторная работа № 5\n",
    "Никонов Фёдор Андреевич ПИ 201(2)"
   ],
   "cell_type": "markdown",
   "metadata": {}
  },
  {
   "source": [
    "## Задание 8\n",
    "\n",
    "Выполнить попарное суммирование произвольного конечного ряда\n",
    "чисел следующим образом. На первом этапе суммировать попарно\n",
    "рядом стоящие числа, на втором - результаты первого этапа\n",
    "аналогичным образом, и т.д., пока не останется одно число.\n"
   ],
   "cell_type": "markdown",
   "metadata": {}
  },
  {
   "cell_type": "code",
   "execution_count": 1,
   "metadata": {},
   "outputs": [
    {
     "output_type": "stream",
     "name": "stdout",
     "text": [
      "21.0\n"
     ]
    }
   ],
   "source": [
    "strarr = input('arr: ')\n",
    "arr = list(map(float, strarr.split(' '))) if strarr else range(1, 11)\n",
    "\n",
    "tmp = []\n",
    "while(len(arr) > 1):\n",
    "    for i in range(int(len(arr)/2)):\n",
    "        I = i*2\n",
    "        tmp.append(arr[I] + arr[I+1])\n",
    "        \n",
    "    if (len(arr) % 2 != 0): tmp.append(arr.pop())\n",
    "    arr = tmp; tmp = []\n",
    "    \n",
    "print(arr[0])"
   ]
  },
  {
   "source": [
    "## Задание 16\n",
    "\n",
    "Вычислить коэффициенты от 1−ой до m−ой (m ≤ n) производной для полинома степени n \n",
    "\n",
    "P<sub>n</sub>(x)= a<sub>0</sub>x<sup>n</sup> + a<sub>1</sub>x<sup>n−1</sup> + a<sub>2</sub>x<sup>n-2</sup> + ... + a<sub>n</sub>."
   ],
   "cell_type": "markdown",
   "metadata": {}
  },
  {
   "cell_type": "code",
   "execution_count": 23,
   "metadata": {},
   "outputs": [
    {
     "output_type": "stream",
     "name": "stdout",
     "text": [
      "a(n)[0]= [1.0, 2.0, 3.0, 4.0]\na(n)[1]= [3.0, 4.0, 3.0, 0.0]\na(n)[2]= [6.0, 4.0, 0.0, 0.0]\n"
     ]
    }
   ],
   "source": [
    "# n = 4; m = 4; an=[a1, a2, a3, a4]\n",
    "# a1*x**3 + a2*x**2 + a3*x + a4*1\n",
    "# a1*3*x**2 + a2*2*x + a3*1\n",
    "# a1*3*2*x + a2*2*1\n",
    "# a1*3*2*1\n",
    "\n",
    "# n = 4; m = 4; an=[1, 2, 3, 4]\n",
    "# 1*x**3 + 2*x**2 + 3*x + 4*1 => 1, 2, 3, 4\n",
    "# 1*3*x**2 + 2*2*x + 3*1      => 3, 4, 3\n",
    "# 1*3*2*x + 2*2*1             => 6, 4\n",
    "# 1*3*2*1                     => 6\n",
    "\n",
    "n, m = [int(input(f'{el}: ')) for el in ['n', 'm']]\n",
    "an = list(map(float, input('a(n): ').split(' ')))\n",
    "\n",
    "for i in range(m):\n",
    "    print(f'a(n)[{i}]=', an)\n",
    "    for j in range(n - i):\n",
    "        an[j] = an[j] * (n - j - i - 1)\n"
   ]
  },
  {
   "source": [
    "## Задание 19\n",
    "\n",
    "Ввести одномерный массив из n элементов. Отсортировать массив по\n",
    "неубыванию (невозрастанию) методом прямого обмена (пузырёк).\n"
   ],
   "cell_type": "markdown",
   "metadata": {}
  },
  {
   "cell_type": "code",
   "execution_count": 16,
   "metadata": {},
   "outputs": [
    {
     "output_type": "stream",
     "name": "stdout",
     "text": [
      "[5, 3, 4, 2, 7, 1, 9, 8, 2, 1]\n[1, 1, 2, 2, 3, 4, 5, 7, 8, 9]\n"
     ]
    }
   ],
   "source": [
    "arr = [*map(int, input('arr: ').strip().split(' '))]\n",
    "\n",
    "li = len(arr) - 1\n",
    "\n",
    "print(arr)\n",
    "\n",
    "for i in range(li):\n",
    "    for j in range(li - i):\n",
    "        if (arr[j] > arr[j+1]):\n",
    "            arr[j], arr[j+1] = arr[j+1], arr[j]\n",
    "\n",
    "print(arr)\n",
    "\n"
   ]
  },
  {
   "cell_type": "code",
   "execution_count": null,
   "metadata": {},
   "outputs": [],
   "source": []
  }
 ]
}