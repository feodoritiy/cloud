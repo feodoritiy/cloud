{
 "metadata": {
  "language_info": {
   "codemirror_mode": {
    "name": "ipython",
    "version": 3
   },
   "file_extension": ".py",
   "mimetype": "text/x-python",
   "name": "python",
   "nbconvert_exporter": "python",
   "pygments_lexer": "ipython3",
   "version": "3.8.5-final"
  },
  "orig_nbformat": 2,
  "kernelspec": {
   "name": "python38564bit56f5d78925fe44c084870aaa31993dbc",
   "display_name": "Python 3.8.5 64-bit",
   "language": "python"
  }
 },
 "nbformat": 4,
 "nbformat_minor": 2,
 "cells": [
  {
   "source": [
    "# Лабораторная работа № 7\n",
    "\n",
    "Никонов Фёдор Андреевич ПИ 201(2)"
   ],
   "cell_type": "markdown",
   "metadata": {}
  },
  {
   "source": [
    "## Задание 1и\n",
    "\n",
    "Представить число как двоичное с фиксированной точкой. Для записи выделяется слово.<br>\n",
    "Число: 123<sub>(16)</sub>"
   ],
   "cell_type": "markdown",
   "metadata": {}
  },
  {
   "cell_type": "code",
   "execution_count": 1,
   "metadata": {},
   "outputs": [
    {
     "output_type": "stream",
     "name": "stdout",
     "text": [
      "0000000100100011\n"
     ]
    }
   ],
   "source": [
    "def convert_base(num, to_base=10, from_base=10):\n",
    "    # сперва в десятичную\n",
    "    if isinstance(num, str):\n",
    "        n = int(num, from_base)\n",
    "    else:\n",
    "        n = int(num)\n",
    "    # теперь в нужную ССИ\n",
    "    alphabet = \"0123456789ABCDEFGHIJKLMNOPQRSTUVWXYZ\"\n",
    "    if n < to_base:\n",
    "        return alphabet[n]\n",
    "    else: # рекурсивно целочисленно делим на основание новой ССИ\n",
    "        return convert_base(n // to_base, to_base) + alphabet[n % to_base]\n",
    "\n",
    "res = convert_base('123', 2, 16)\n",
    "if (len(res) < 16):\n",
    "    print('0'*(16-len(res)) + res)\n",
    "else: # len >= 16\n",
    "    print(res[-16:])"
   ]
  },
  {
   "source": [
    "## Задание 5б\n",
    "\n",
    "Интерпритировать содержимое 4х байт памяти как:\n",
    "\n",
    "- целое число со знаком;\n",
    "- целое число без знака;\n",
    "- вещественное число с плавающей точкой.\n",
    "\n",
    "| 1  | 11100100 | 00111011000000110011011 |\n",
    "|:---|:--------:|:-----------------------:|\n",
    "| 31 | 30 -- 23 | 22 ------------------ 0 |"
   ],
   "cell_type": "markdown",
   "metadata": {}
  },
  {
   "cell_type": "code",
   "execution_count": 6,
   "metadata": {},
   "outputs": [
    {
     "output_type": "stream",
     "name": "stdout",
     "text": [
      "Со знаком: -1914536347\nБез знака: 4062019995\n"
     ]
    }
   ],
   "source": [
    "def bin_to_dec(num, to_base=10, from_base=2):\n",
    "    # сперва в десятичную\n",
    "    if isinstance(num, str):\n",
    "        n = int(num, from_base)\n",
    "    else:\n",
    "        n = int(num)\n",
    "    # теперь в нужную ССИ\n",
    "    alphabet = \"0123456789ABCDEFGHIJKLMNOPQRSTUVWXYZ\"\n",
    "    if n < to_base:\n",
    "        return alphabet[n]\n",
    "    else: # рекурсивно целочисленно делим на основание новой ССИ\n",
    "        return bin_to_dec(n // to_base, to_base) + alphabet[n % to_base]\n",
    "\n",
    "n = ['1', '11100100', '00111011000000110011011']\n",
    "\n",
    "sign = ('-' if n[0] == '1' else '')\n",
    "\n",
    "print('Со знаком:', sign + bin_to_dec(n[1] + n[2]))\n",
    "print('Без знака:', bin_to_dec(''.join(n)))"
   ]
  },
  {
   "source": [
    "Экспоненицальная:\n",
    "\n",
    "| Описание | Действие |\n",
    "|----------|----------|\n",
    "| Значащая единица | 1 => - |\n",
    "| Характеристика | 11100100<sub>2</sub> = 228<sub>10</sub> |\n",
    "| Порядок | 228 - 127 = 101 |\n",
    "| Нормализованная запись | 1.00111011000000110011011<sub>2</sub> |\n",
    "| Нормализованная в десятичной | 1.23051774501800537109375<sub>10</sub> |\n",
    "| Сдвигаем на порядок | 2<sup>101</sup> * 1.23051774501800537109375 |\n",
    "| Результат | 3119733116127123695893494104064.0 |\n",
    "| С учетом знака | -3119733116127123695893494104064.0 |"
   ],
   "cell_type": "markdown",
   "metadata": {}
  },
  {
   "cell_type": "code",
   "execution_count": null,
   "metadata": {},
   "outputs": [],
   "source": []
  }
 ]
}